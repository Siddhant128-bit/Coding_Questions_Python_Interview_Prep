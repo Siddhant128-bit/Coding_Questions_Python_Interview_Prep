{
 "cells": [
  {
   "attachments": {},
   "cell_type": "markdown",
   "metadata": {},
   "source": [
    "<h1 align='center'> Basic Python Questions/Solutions </h1> \n",
    "Here are some Basic Questions with their Solution for Python understanding \n",
    "<h5> Q.1. Write a function that takes in a list of numbers and returns the largest number in the list </h5>"
   ]
  },
  {
   "cell_type": "code",
   "execution_count": 1,
   "metadata": {},
   "outputs": [
    {
     "data": {
      "text/plain": [
       "5"
      ]
     },
     "execution_count": 1,
     "metadata": {},
     "output_type": "execute_result"
    }
   ],
   "source": [
    "def max_find(list_val):\n",
    "    return max(list_val)\n",
    "\n",
    "max_find([1,2,3,4,5])"
   ]
  },
  {
   "attachments": {},
   "cell_type": "markdown",
   "metadata": {},
   "source": [
    "<h5>Q.2. Write a function that takes in a list of strings and returns a new list with all strings that have length greater than 5.<h5>"
   ]
  },
  {
   "cell_type": "code",
   "execution_count": 11,
   "metadata": {},
   "outputs": [
    {
     "data": {
      "text/plain": [
       "['buffallow']"
      ]
     },
     "execution_count": 11,
     "metadata": {},
     "output_type": "execute_result"
    }
   ],
   "source": [
    "def get_string_greater_then_five(list_val):\n",
    "    return [i for i in list_val if isinstance(i,str) and len(i)>5]\n",
    "\n",
    "get_string_greater_then_five(['apple','ball','cat','buffallow',12345])"
   ]
  },
  {
   "attachments": {},
   "cell_type": "markdown",
   "metadata": {},
   "source": [
    "<h5> Q.3. Write a function that takes in a string and returns a dictionary containing the count of each character in the string.</h5>"
   ]
  },
  {
   "cell_type": "code",
   "execution_count": 20,
   "metadata": {},
   "outputs": [
    {
     "data": {
      "text/plain": [
       "{'a': 1, 'p': 2, 'l': 1, 'e': 1}"
      ]
     },
     "execution_count": 20,
     "metadata": {},
     "output_type": "execute_result"
    }
   ],
   "source": [
    "def get_count_chars(str_val):\n",
    "    op={}\n",
    "    for i in str_val:\n",
    "        op[i]=str_val.count(i)\n",
    "    return op\n",
    "\n",
    "get_count_chars('apple')"
   ]
  },
  {
   "attachments": {},
   "cell_type": "markdown",
   "metadata": {},
   "source": [
    "<h5>Q.4. Write a function that takes in a list of numbers and returns the sum of all even numbers in the list.</h5>"
   ]
  },
  {
   "cell_type": "code",
   "execution_count": 21,
   "metadata": {},
   "outputs": [
    {
     "data": {
      "text/plain": [
       "30"
      ]
     },
     "execution_count": 21,
     "metadata": {},
     "output_type": "execute_result"
    }
   ],
   "source": [
    "def sum_even_numbs(list_of_numbs):\n",
    "    return sum([i for i in list_of_numbs if i%2==0])\n",
    "\n",
    "sum_even_numbs([1,2,3,4,5,6,7,8,9,10])"
   ]
  },
  {
   "attachments": {},
   "cell_type": "markdown",
   "metadata": {},
   "source": [
    "<h5>Q.5. Write a function that takes in a list of dictionaries representing people and their ages, and returns the average age of all people in the list. </h5>"
   ]
  },
  {
   "cell_type": "code",
   "execution_count": 28,
   "metadata": {},
   "outputs": [
    {
     "data": {
      "text/plain": [
       "50.0"
      ]
     },
     "execution_count": 28,
     "metadata": {},
     "output_type": "execute_result"
    }
   ],
   "source": [
    "def get_average_age(list_of_dict):\n",
    "    return sum([i['age'] for i in list_of_dict])/len(list_of_dict)\n",
    "\n",
    "get_average_age([{'name':'Arcane','age':25},{'name':'Kane','age':35},{'name':'Luficer','age':55},{'name':'Karna','age':85}])"
   ]
  },
  {
   "attachments": {},
   "cell_type": "markdown",
   "metadata": {},
   "source": [
    "<h5> Q.6.Write a function that takes in a string and returns True if the string is a palindrome, False otherwise. </h5>"
   ]
  },
  {
   "cell_type": "code",
   "execution_count": 41,
   "metadata": {},
   "outputs": [
    {
     "data": {
      "text/plain": [
       "False"
      ]
     },
     "metadata": {},
     "output_type": "display_data"
    },
    {
     "data": {
      "text/plain": [
       "True"
      ]
     },
     "metadata": {},
     "output_type": "display_data"
    }
   ],
   "source": [
    "def check_palindrome(string_val):\n",
    "    if string_val.lower()==string_val[::-1].lower():\n",
    "        return True\n",
    "    else: \n",
    "        return False\n",
    "\n",
    "display(check_palindrome('Lane'))\n",
    "display(check_palindrome('Hanah'))"
   ]
  },
  {
   "attachments": {},
   "cell_type": "markdown",
   "metadata": {},
   "source": [
    "<h5>Q.7. Write a function that takes in a list of numbers and returns a new list with all unique numbers from the original list.</h5>"
   ]
  },
  {
   "cell_type": "code",
   "execution_count": 42,
   "metadata": {},
   "outputs": [
    {
     "data": {
      "text/plain": [
       "[1, 2, 3]"
      ]
     },
     "execution_count": 42,
     "metadata": {},
     "output_type": "execute_result"
    }
   ],
   "source": [
    "def get_unique_vals(list_val):\n",
    "    return list(set(list_val))\n",
    "\n",
    "get_unique_vals([1,2,3,1,1,])\n"
   ]
  },
  {
   "attachments": {},
   "cell_type": "markdown",
   "metadata": {},
   "source": [
    "<h5>Q.8. Write a function that takes in a list of strings and returns the longest string in the list. </h5>"
   ]
  },
  {
   "cell_type": "code",
   "execution_count": 64,
   "metadata": {},
   "outputs": [
    {
     "data": {
      "text/plain": [
       "'abcon'"
      ]
     },
     "execution_count": 64,
     "metadata": {},
     "output_type": "execute_result"
    }
   ],
   "source": [
    "def give_longest_string(list_val):\n",
    "    list_val_c=[len(i) for i in list_val]\n",
    "    return list_val[list_val_c.index(max(list_val_c))]\n",
    "\n",
    "give_longest_string(['app','abcon','a'])"
   ]
  },
  {
   "attachments": {},
   "cell_type": "markdown",
   "metadata": {},
   "source": [
    "<h5>Q.9. Write a function that takes in a string and returns the number of vowels in the string. </h5>"
   ]
  },
  {
   "cell_type": "code",
   "execution_count": 83,
   "metadata": {},
   "outputs": [
    {
     "data": {
      "text/plain": [
       "{'a': 11, 'e': 10, 'i': 10, 'o': 10, 'u': 10}"
      ]
     },
     "execution_count": 83,
     "metadata": {},
     "output_type": "execute_result"
    }
   ],
   "source": [
    "def return_vowel_count(string_val):\n",
    "    op={}\n",
    "    string_val=string_val.lower()\n",
    "    for i in ['a','e','i','o','u']:\n",
    "        if string_val.count(i)>=1:\n",
    "            op[i]=string_val.count(i)\n",
    "    return op\n",
    "\n",
    "return_vowel_count('adoulie, douleia, eucosia, eulogia, eunomia, eutopia, miaoued, moineau, sequoia, and suoidea')"
   ]
  },
  {
   "attachments": {},
   "cell_type": "markdown",
   "metadata": {},
   "source": [
    "<h5>Q.10. Write a function that takes in a list of numbers and returns the median value of the list.</h5>"
   ]
  },
  {
   "cell_type": "code",
   "execution_count": 93,
   "metadata": {},
   "outputs": [
    {
     "data": {
      "text/plain": [
       "6.0"
      ]
     },
     "metadata": {},
     "output_type": "display_data"
    },
    {
     "data": {
      "text/plain": [
       "4.5"
      ]
     },
     "metadata": {},
     "output_type": "display_data"
    }
   ],
   "source": [
    "def get_median(list_val):\n",
    "    list_val=[float(i) for i in list_val]\n",
    "    if len(list_val)%2!=0:\n",
    "        return list_val[int((len(list_val))/2)]\n",
    "    else: \n",
    "        return (list_val[int((len(list_val))/2)]+list_val[int((len(list_val))/2)-1])/2\n",
    "\n",
    "display(get_median([1,3,3,6,7,8,9]))\n",
    "display(get_median([1,2,3,4,5,6,8,9]))"
   ]
  }
 ],
 "metadata": {
  "kernelspec": {
   "display_name": "Interview_Prep_",
   "language": "python",
   "name": "python3"
  },
  "language_info": {
   "codemirror_mode": {
    "name": "ipython",
    "version": 3
   },
   "file_extension": ".py",
   "mimetype": "text/x-python",
   "name": "python",
   "nbconvert_exporter": "python",
   "pygments_lexer": "ipython3",
   "version": "3.11.2"
  },
  "orig_nbformat": 4
 },
 "nbformat": 4,
 "nbformat_minor": 2
}
