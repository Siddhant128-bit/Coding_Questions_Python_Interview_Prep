{
 "cells": [
  {
   "attachments": {},
   "cell_type": "markdown",
   "metadata": {},
   "source": [
    "<h1 align='center'> Python OOP Understanding </h1>\n",
    "\n",
    "<p> In this notebook we are going to learn about OOP implementation using pythong </p>\n",
    "\n",
    "<h4>1. Creating Class Using Functions </h4>\n",
    "\n",
    "<p> Implementing <b>*args</b> which stands for arguments which is used to send multiple parameters in arguments </p> "
   ]
  },
  {
   "cell_type": "code",
   "execution_count": 32,
   "metadata": {},
   "outputs": [
    {
     "data": {
      "text/plain": [
       "15"
      ]
     },
     "metadata": {},
     "output_type": "display_data"
    },
    {
     "data": {
      "text/plain": [
       "120"
      ]
     },
     "metadata": {},
     "output_type": "display_data"
    }
   ],
   "source": [
    "class arthmatic_operations:\n",
    "    def sum_all(*args):\n",
    "        display(sum(args))\n",
    "    \n",
    "    def multiply_all(*args):\n",
    "        result=1\n",
    "        for i in args: \n",
    "            result*=i\n",
    "        display(result)\n",
    "\n",
    "\n",
    "arthmatic_operations.sum_all(1,2,3,4,5)\n",
    "arthmatic_operations.multiply_all(1,2,3,4,5)"
   ]
  },
  {
   "attachments": {},
   "cell_type": "markdown",
   "metadata": {},
   "source": [
    "<h4>2. Using 'self' in Class </h4>\n",
    "\n",
    "<p> The self keyword is used to refer to the current instance of a class and its attributes. When you create multiple instances of the same class, each instance will have its own set of attributes that are independent of the other instances. Using self ensures that the attributes of each instance are properly initialized and can be accessed and modified independently.</p>\n"
   ]
  },
  {
   "cell_type": "code",
   "execution_count": 37,
   "metadata": {},
   "outputs": [
    {
     "name": "stdout",
     "output_type": "stream",
     "text": [
      "Hello, my name is Prakash and I am 35 years old.\n"
     ]
    }
   ],
   "source": [
    "class Person:\n",
    "    def __init__(self, name, age):\n",
    "        self.name = name\n",
    "        self.age = age\n",
    "\n",
    "    def greet(self):\n",
    "        print(f\"Hello, my name is {self.name} and I am {self.age} years old.\")\n",
    "\n",
    "person1 = Person(\"Prakash\", 35)\n",
    "person1.greet()\n",
    "  "
   ]
  },
  {
   "attachments": {},
   "cell_type": "markdown",
   "metadata": {},
   "source": [
    "In the example above, self refers to the instance of the class that is being created. Within the __init__ method, self.name and self.age are instance variables that are assigned to the values of the name and age arguments respectively.\n",
    "\n",
    "The greet method takes no arguments other than self, which allows it to access the instance variables self.name and self.age to print a personalized greeting. The self parameter is automatically passed to the method when it is called on an instance of the class, as in the person1.greet() line."
   ]
  },
  {
   "attachments": {},
   "cell_type": "markdown",
   "metadata": {},
   "source": [
    "<h4>Q.1. Solve this: </h4>\n",
    "<br>\n",
    "Suppose you are building a simple bank account management system using OOP in Python. Write a class BankAccount that has the following attributes:\n",
    "\n",
    "name: the name of the account holder <br>\n",
    "balance: the current balance in the account<br>\n",
    "\n",
    "The class should have the following methods:\n",
    "\n",
    "__init__(self, name, balance): a constructor method that initializes the account with the given name and balance. <br><br>\n",
    "<b>deposit(self, amount)</b>: a method that adds the given amount to the account balance.<br><br>\n",
    "\n",
    "<b>withdraw(self, amount)</b>: a method that subtracts the given amount from the account balance.<br><br>\n",
    "\n",
    "<b>get_balance(self)</b>: a method that returns the current account balance."
   ]
  },
  {
   "cell_type": "code",
   "execution_count": 48,
   "metadata": {},
   "outputs": [
    {
     "name": "stdout",
     "output_type": "stream",
     "text": [
      "\n",
      "Hello Siddhant \n",
      "Your Total Balance 5000\n",
      "\n",
      "Hello Siddhant \n",
      "Your Total Balance 12000\n",
      "\n",
      "Hello Sarkar \n",
      "Your Total Balance 50000\n"
     ]
    }
   ],
   "source": [
    "class BankAccount:\n",
    "    def __init__(self,name,balance):\n",
    "        self.name=name\n",
    "        self.balance=balance\n",
    "    \n",
    "    def deposit(self,amount):\n",
    "        self.balance+=amount\n",
    "    \n",
    "    def withdraw(self,amount):\n",
    "        self.balance-=amount\n",
    "    \n",
    "    def get_balance(self):\n",
    "        print(f'\\nHello {self.name} \\nYour Total Balance {self.balance}')\n",
    "\n",
    "instance_1_account=BankAccount('Siddhant',5000)\n",
    "instance_1_account.get_balance()\n",
    "instance_1_account.deposit(10000)\n",
    "instance_1_account.withdraw(3000)\n",
    "instance_1_account.get_balance()\n",
    "instance_2_account=BankAccount('Sarkar',50000)\n",
    "instance_2_account.get_balance()"
   ]
  },
  {
   "attachments": {},
   "cell_type": "markdown",
   "metadata": {},
   "source": [
    "Suppose you are building a program to manage a library. <br>You need to create a class called Library which has the following functionalities:\n",
    "\n",
    "Add a book to the library (with title, author, and number of copies) <br>\n",
    "Remove a book from the library<br>\n",
    "Check out a book (reduce number of available copies by 1)<br>\n",
    "Check in a book (increase number of available copies by 1)<br>\n",
    "Search for a book by title or author and get the number of copies available <br><br>\n",
    "\n"
   ]
  },
  {
   "cell_type": "code",
   "execution_count": 2,
   "metadata": {},
   "outputs": [
    {
     "data": {
      "text/plain": [
       "<__main__.Library at 0x1f92a19bcd0>"
      ]
     },
     "execution_count": 2,
     "metadata": {},
     "output_type": "execute_result"
    }
   ],
   "source": [
    "class Library:\n",
    "    def __init__(self):\n",
    "        pass\n",
    "\n",
    "\n",
    "Library()"
   ]
  }
 ],
 "metadata": {
  "kernelspec": {
   "display_name": "Interview_Prep_",
   "language": "python",
   "name": "python3"
  },
  "language_info": {
   "codemirror_mode": {
    "name": "ipython",
    "version": 3
   },
   "file_extension": ".py",
   "mimetype": "text/x-python",
   "name": "python",
   "nbconvert_exporter": "python",
   "pygments_lexer": "ipython3",
   "version": "3.11.2"
  },
  "orig_nbformat": 4
 },
 "nbformat": 4,
 "nbformat_minor": 2
}
